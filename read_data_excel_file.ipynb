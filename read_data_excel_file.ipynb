{
 "cells": [
  {
   "cell_type": "code",
   "execution_count": 7,
   "id": "bdfea850",
   "metadata": {},
   "outputs": [],
   "source": [
    "import openpyxl as xl;\n",
    "#opening the source file\n",
    "\n",
    "source_file = \"C:\\\\Users\\\\gaura\\\\Downloads\\\\CNG Volume Prediction Model.xlsx\"\n",
    "wb1 = xl.load_workbook(source_file)\n",
    "ws1 = wb1.worksheets[0]\n",
    "  \n",
    "# opening the destination excel file \n",
    "destination =\"C:\\\\Users\\\\gaura\\\\OneDrive\\\\Desktop\\\\new001.xlsx\"\n",
    "wb2 = xl.load_workbook(destination)\n",
    "ws2 = wb2.active\n",
    "  \n",
    "# calculate total number of rows and \n",
    "# columns in source excel file\n",
    "mr = ws1.max_row\n",
    "mc = ws1.max_column\n",
    "  \n",
    "# copying the cell values from source \n",
    "# excel file to destination excel file\n",
    "for i in range (1, mr + 1):\n",
    "    for j in range (1, mc + 1):\n",
    "        # reading cell value from source excel file\n",
    "        c = ws1.cell(row = i, column = j)\n",
    "  \n",
    "        # writing the read value to destination excel file\n",
    "        ws2.cell(row = i, column = j).value = c.value\n",
    "  \n",
    "# saving the destination excel file\n",
    "wb2.save(str(destination))\n",
    "\n",
    "    "
   ]
  }
 ],
 "metadata": {
  "kernelspec": {
   "display_name": "Python 3 (ipykernel)",
   "language": "python",
   "name": "python3"
  },
  "language_info": {
   "codemirror_mode": {
    "name": "ipython",
    "version": 3
   },
   "file_extension": ".py",
   "mimetype": "text/x-python",
   "name": "python",
   "nbconvert_exporter": "python",
   "pygments_lexer": "ipython3",
   "version": "3.9.7"
  }
 },
 "nbformat": 4,
 "nbformat_minor": 5
}
